{
  "nbformat": 4,
  "nbformat_minor": 0,
  "metadata": {
    "colab": {
      "name": "chapter2-exercise.ipynb",
      "provenance": [],
      "include_colab_link": true
    },
    "kernelspec": {
      "name": "python3",
      "display_name": "Python 3"
    }
  },
  "cells": [
    {
      "cell_type": "markdown",
      "metadata": {
        "id": "view-in-github",
        "colab_type": "text"
      },
      "source": [
        "<a href=\"https://colab.research.google.com/github/nhatlinhdinhtran/chapter2/blob/main/chapter2_exercise.ipynb\" target=\"_parent\"><img src=\"https://colab.research.google.com/assets/colab-badge.svg\" alt=\"Open In Colab\"/></a>"
      ]
    },
    {
      "cell_type": "markdown",
      "metadata": {
        "id": "sMJ5KoiBMARd"
      },
      "source": [
        "**BÀI TẬP LẬP TRÌNH CHƯƠNG 2**\n",
        "\n",
        "Bài 1: Lập trình nhập vào từ bàn phím 2 số nguyên và tính:\n",
        "\n",
        "\n",
        "1.   Tổng của 2 số\n",
        "2.   Tích của 2 số\n",
        "3.   Hiệu của 2 số\n",
        "4.   Phép chia lấy phần dư của 2 số\n",
        "5.   Phép chia lấy phần nguyên của 2 số\n",
        "\n",
        "Kết quả xuất ra màn hình\n",
        "\n"
      ]
    },
    {
      "cell_type": "code",
      "metadata": {
        "id": "Os5z0wPpL1Nk",
        "colab": {
          "base_uri": "https://localhost:8080/"
        },
        "outputId": "8b4f7d23-749a-4628-d1e2-149a7cf54720"
      },
      "source": [
        "#Your code here\n",
        "a = input(\"a=\")\n",
        "b= input(\"b=\")\n",
        "a = int(a)\n",
        "b= int(b)\n",
        "c=a+b\n",
        "print(\"a+b =\",c)\n",
        "c=a*b\n",
        "print(\"a*b =\",c)\n",
        "c=a-b\n",
        "print(\"a-b =\",c)\n",
        "c=a%b\n",
        "print(\"a%b =\",c)\n",
        "c=a//b\n",
        "print(\"a//b =\",c)\n"
      ],
      "execution_count": 1,
      "outputs": [
        {
          "output_type": "stream",
          "name": "stdout",
          "text": [
            "a=6\n",
            "b=5\n",
            "a+b = 11\n",
            "a*b = 30\n",
            "a-b = 1\n",
            "a%b = 1\n",
            "a//b = 1\n"
          ]
        }
      ]
    },
    {
      "cell_type": "markdown",
      "metadata": {
        "id": "j2suJwVPM5Zk"
      },
      "source": [
        "Bài 2: Lập trình nhập vào từ bàn phím 2 số thực và tính:\n",
        "\n",
        "1.   Tổng của 2 số\n",
        "2.   Tích của 2 số\n",
        "3.   Hiệu của 2 số\n",
        "4.   Thương của 2 số\n",
        "\n",
        "Kết quả xuất ra màn hình"
      ]
    },
    {
      "cell_type": "code",
      "metadata": {
        "id": "fmlD-ggRMh9q",
        "colab": {
          "base_uri": "https://localhost:8080/"
        },
        "outputId": "cd646c3e-4002-4c6c-8295-5781f098a27a"
      },
      "source": [
        "#Your code here\n",
        "a = input(\"a=\")\n",
        "b= input(\"b=\")\n",
        "a = float(a)\n",
        "b= float(b)\n",
        "c=a+b\n",
        "print(\"a+b =\",c)\n",
        "c=a-b\n",
        "print(\"a-b =\",c)\n",
        "c=a*b\n",
        "print(\"a*b =\",c)\n",
        "c=a/b\n",
        "print(\"a/b =\",c)\n",
        "\n"
      ],
      "execution_count": 3,
      "outputs": [
        {
          "output_type": "stream",
          "name": "stdout",
          "text": [
            "a=5.6\n",
            "b=3.7\n",
            "a+b = 9.3\n",
            "a-b = 1.8999999999999995\n",
            "a*b = 20.72\n",
            "a/b = 1.5135135135135134\n"
          ]
        }
      ]
    },
    {
      "cell_type": "markdown",
      "metadata": {
        "id": "sOCly6AvNUAN"
      },
      "source": [
        "Bài 3: (Sử dụng các hàm toán học) Nhập một số từ bàn phím và tính:\n",
        "\n",
        "\n",
        "\n",
        "1.   Trị tuyệt đối\n",
        "2.   Lấy phần nguyên của số\n",
        "3.   Chuyển đổi thành số thực\n",
        "4.   (nhập thêm 1 số từ bàn phím) và tính lũy thừa $ x^y $\n",
        "5.   Tính căn bậc hai\n",
        "\n",
        "Kết quả xuất ra màn hình\n",
        "\n"
      ]
    },
    {
      "cell_type": "code",
      "metadata": {
        "id": "XNKN4yAoOUAa",
        "colab": {
          "base_uri": "https://localhost:8080/"
        },
        "outputId": "0657b7cb-7f3b-4be7-bd0a-73dbcfaafc0a"
      },
      "source": [
        "#Your code here\n",
        "import math\n",
        "x=float(input(\"x= \"))\n",
        "y=float(input(\"y= \"))\n",
        "a=abs(x)\n",
        "print(\"tri tuyet doi cua x la \", a)\n",
        "a=int(x)\n",
        "print(\"phan nguyen cua x la \",a)\n",
        "a=float(x)\n",
        "print(\"chuyen doi x thanh so thuc\",a)\n",
        "a=x**y\n",
        "print(\"luy thua \", a)\n",
        "a=math.sqrt(x)\n",
        "print(\"can bac hai cua x la \",a)\n",
        "\n",
        "\n",
        "\n"
      ],
      "execution_count": 4,
      "outputs": [
        {
          "output_type": "stream",
          "name": "stdout",
          "text": [
            "x= 8\n",
            "y= 2\n",
            "tri tuyet doi cua x la  8.0\n",
            "phan nguyen cua x la  8\n",
            "chuyen doi x thanh so thuc 8.0\n",
            "luy thua  64.0\n",
            "can bac hai cua x la  2.8284271247461903\n"
          ]
        }
      ]
    },
    {
      "cell_type": "markdown",
      "metadata": {
        "id": "79zQGrU5Od-d"
      },
      "source": [
        "Bài 4: Nhập 2 số từ bàn phím và thực hiện các phép so sánh sau giữa 2 số:\n",
        "\n",
        "\n",
        "\n",
        "1.   $ \\geq $\n",
        "2.   $ \\leq $\n",
        "3.   $ > $\n",
        "4.   $ < $\n",
        "5.   $ \\neq $\n",
        "\n",
        "Kết quả xuất ra màn hình\n"
      ]
    },
    {
      "cell_type": "code",
      "metadata": {
        "id": "qePknJEaP1tL",
        "colab": {
          "base_uri": "https://localhost:8080/"
        },
        "outputId": "527bfbc9-e363-4746-820e-dc3f3bad322e"
      },
      "source": [
        "3#Your code here\n",
        "X = int(input(\"x = \"))\n",
        "y = int(input(\"y = \"))\n",
        "print( x >= y)\n",
        "print( x <= y)\n",
        "print( x > y)\n",
        "print( x < y)\n",
        "print( x != y)"
      ],
      "execution_count": 5,
      "outputs": [
        {
          "output_type": "stream",
          "name": "stdout",
          "text": [
            "x = 96\n",
            "y = 35\n",
            "False\n",
            "True\n",
            "False\n",
            "True\n",
            "True\n"
          ]
        }
      ]
    },
    {
      "cell_type": "markdown",
      "metadata": {
        "id": "90lU8sTXP4hu"
      },
      "source": [
        "Bài 5: Nhập 1 chuỗi ký tự từ bàn phím:\n",
        "\n",
        "\n",
        "\n",
        "1.   Chuyển thành chuỗi in hoa\n",
        "2.   Chuyển thành chuỗi in thường\n",
        "\n",
        "Kết quả xuất ra màn hình\n",
        "\n",
        "\n",
        "\n"
      ]
    },
    {
      "cell_type": "code",
      "metadata": {
        "id": "PWIIssukQXja",
        "colab": {
          "base_uri": "https://localhost:8080/"
        },
        "outputId": "519e6618-37f4-4675-9f75-52c5a446d204"
      },
      "source": [
        "#Your code here\n",
        "print (\"hello world\".upper())\n",
        "print(\"HELLO WORLD\".lower())\n",
        "\n"
      ],
      "execution_count": 6,
      "outputs": [
        {
          "output_type": "stream",
          "name": "stdout",
          "text": [
            "HELLO WORLD\n",
            "hello world\n"
          ]
        }
      ]
    },
    {
      "cell_type": "markdown",
      "metadata": {
        "id": "gv9n9-gMQZ7O"
      },
      "source": [
        "Bài 6: Xuất ra màn hình 1 chuỗi ký từ nằm trên nhiều hàng (có thể là 1 bài thơ tùy ý bạn lựa chọn)"
      ]
    },
    {
      "cell_type": "code",
      "metadata": {
        "id": "ZcjBCkQOQoS0",
        "colab": {
          "base_uri": "https://localhost:8080/"
        },
        "outputId": "6c20904e-3fcc-4a2c-90cd-c6b68e32eca1"
      },
      "source": [
        "#Your code here\n",
        "print(\"Cuộc đời như buổi chợ chiều\")\n",
        "print(\"Đời người tan hợp dập dìu mây bay\")\n",
        "print(\"Yêu thương tay nắm lấy tay\")\n",
        "print(\"Đừng vì cuộc sống, đổi thay chính mình\")\n",
        "\n"
      ],
      "execution_count": 7,
      "outputs": [
        {
          "output_type": "stream",
          "name": "stdout",
          "text": [
            "Cuộc đời như buổi chợ chiều\n",
            "Đời người tan hợp dập dìu mây bay\n",
            "Yêu thương tay nắm lấy tay\n",
            "Đừng vì cuộc sống, đổi thay chính mình\n"
          ]
        }
      ]
    }
  ]
}